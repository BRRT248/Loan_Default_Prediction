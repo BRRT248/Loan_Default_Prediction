{
 "cells": [
  {
   "cell_type": "markdown",
   "id": "c07b2940-d841-4300-aad5-5eabfdb0daba",
   "metadata": {},
   "source": [
    "# Predictive Modelling – Loan Default Prediction\n",
    "\n",
    "This project predicts whether a loan will default based on customer features like income, age, and loan amount. We use a synthetic dataset to build and evaluate a logistic regression model.\n",
    "\n",
    "Our workflow includes:\n",
    "- Loading and exploring the data\n",
    "- Preparing features for modeling\n",
    "- Training a logistic regression classifier\n",
    "- Evaluating model performance with common metrics\n"
   ]
  },
  {
   "cell_type": "code",
   "execution_count": 8,
   "id": "0374ae39-a879-454d-874f-b5b6fd92624f",
   "metadata": {},
   "outputs": [],
   "source": [
    "# Loan Default Prediction – Thomas Beazer\n",
    "\n",
    "import pandas as pd\n",
    "import matplotlib.pyplot as plt\n",
    "from sklearn.model_selection import train_test_split\n",
    "from sklearn.linear_model import LogisticRegression\n",
    "from sklearn.metrics import confusion_matrix, classification_report, roc_auc_score"
   ]
  },
  {
   "cell_type": "markdown",
   "id": "52248aee-a22d-4414-aae9-1e877e0a86c2",
   "metadata": {},
   "source": [
    "## Load Dataset\n",
    "\n",
    "We load a synthetic dataset of loan applicants containing the following columns:\n",
    "- `income`: annual income\n",
    "- `age`: age of the applicant\n",
    "- `loan_amount`: amount requested\n",
    "- `defaulted`: whether the loan defaulted (1 = default, 0 = repaid)\n"
   ]
  },
  {
   "cell_type": "code",
   "execution_count": 10,
   "id": "3c0a1ef5-4f5f-4f20-a617-bea8e07543ad",
   "metadata": {},
   "outputs": [
    {
     "name": "stdout",
     "output_type": "stream",
     "text": [
      "   income  age  loan_amount  defaulted\n",
      "0   57450   21         7872          0\n",
      "1   47926   45        10393          0\n",
      "2   59715   36        14064          0\n",
      "3   72845   59         9181          1\n",
      "4   46487   52         7888          0\n"
     ]
    }
   ],
   "source": [
    "# Load data\n",
    "df = pd.read_csv('/Users/asus/Documents/Github Portfolio/Predictive_Modelling_Loadn_Default/data/loan_data.csv/loan_data.csv')\n",
    "print(df.head())"
   ]
  },
  {
   "cell_type": "markdown",
   "id": "8130667d-f7a6-4e62-a76b-7cf5ce1d1be0",
   "metadata": {},
   "source": [
    "## Exploratory Data Analysis (EDA)\n",
    "\n",
    "We explore the dataset by viewing basic statistics and class distribution of defaults.\n",
    "\n",
    "### Visualizing Default Distribution\n",
    "\n",
    "We plot the number of defaults vs non-defaults to understand class imbalance.\n"
   ]
  },
  {
   "cell_type": "code",
   "execution_count": 14,
   "id": "ea4da1c7-db89-4a91-a3c0-234036fdb4da",
   "metadata": {},
   "outputs": [
    {
     "data": {
      "image/png": "[encoded data removed]",
      "text/plain": [
       "<Figure size 640x480 with 1 Axes>"
      ]
     },
     "metadata": {},
     "output_type": "display_data"
    }
   ],
   "source": [
    "# EDA\n",
    "df.describe()\n",
    "df['defaulted'].value_counts().plot(kind='bar')\n",
    "plt.title('Default Rate')\n",
    "plt.show()"
   ]
  },
  {
   "cell_type": "markdown",
   "id": "6e2666f4-bd0d-4a62-a685-2c0a32c5ebc9",
   "metadata": {},
   "source": [
    "## Prepare Data for Modeling\n",
    "\n",
    "We select `income`, `age`, and `loan_amount` as features (X) and `defaulted` as the target (y). We split the data into training and test sets.\n"
   ]
  },
  {
   "cell_type": "code",
   "execution_count": 16,
   "id": "a06ddcc5-f5ed-41fc-8031-9dda5243f694",
   "metadata": {},
   "outputs": [],
   "source": [
    "# Prepare data\n",
    "X = df[['income', 'age', 'loan_amount']]\n",
    "y = df['defaulted']\n"
   ]
  },
  {
   "cell_type": "markdown",
   "id": "78e3da63-cbdf-43a8-a9a3-2bede2ac1f89",
   "metadata": {},
   "source": [
    "## Train Logistic Regression Model\n",
    "\n",
    "We train a logistic regression classifier on the training set to predict loan defaults.\n"
   ]
  },
  {
   "cell_type": "code",
   "execution_count": 18,
   "id": "571900dc-46b1-4144-a0fd-d163861cb68f",
   "metadata": {},
   "outputs": [],
   "source": [
    "# Train/test split\n",
    "X_train, X_test, y_train, y_test = train_test_split(X, y, test_size=0.2, random_state=42)\n"
   ]
  },
  {
   "cell_type": "markdown",
   "id": "608f88d0-149c-4c59-a2cf-af3fb2610756",
   "metadata": {},
   "source": [
    "## Evaluate Model\n",
    "\n",
    "We generate predictions on the test set and evaluate performance using:\n",
    "- Confusion matrix\n",
    "- Classification report (precision, recall, F1-score)\n",
    "- ROC AUC score\n"
   ]
  },
  {
   "cell_type": "code",
   "execution_count": 26,
   "id": "9dc99a83-8181-4027-af65-00beb780d0b0",
   "metadata": {},
   "outputs": [],
   "source": [
    "\n",
    "# Model\n",
    "model = LogisticRegression()\n",
    "model.fit(X_train, y_train)\n",
    "\n",
    "# Predictions\n",
    "y_pred = model.predict(X_test)\n"
   ]
  },
  {
   "cell_type": "markdown",
   "id": "bb2e04ba-4488-41d1-a204-31fcf30def03",
   "metadata": {},
   "source": [
    "### Model Performance Metrics\n",
    "\n",
    "We print evaluation metrics to assess the model's ability to predict defaults.\n"
   ]
  },
  {
   "cell_type": "code",
   "execution_count": 29,
   "id": "7099ef92-3d9a-4f7d-b6e2-1a1044512734",
   "metadata": {},
   "outputs": [
    {
     "name": "stdout",
     "output_type": "stream",
     "text": [
      "[[31  1]\n",
      " [ 8  0]]\n",
      "              precision    recall  f1-score   support\n",
      "\n",
      "           0       0.79      0.97      0.87        32\n",
      "           1       0.00      0.00      0.00         8\n",
      "\n",
      "    accuracy                           0.78        40\n",
      "   macro avg       0.40      0.48      0.44        40\n",
      "weighted avg       0.64      0.78      0.70        40\n",
      "\n",
      "ROC AUC: 0.5078125\n"
     ]
    }
   ],
   "source": [
    "\n",
    "# Evaluation\n",
    "print(confusion_matrix(y_test, y_pred))\n",
    "print(classification_report(y_test, y_pred))\n",
    "print('ROC AUC:', roc_auc_score(y_test, model.predict_proba(X_test)[:,1]))\n"
   ]
  },
  {
   "cell_type": "markdown",
   "id": "053b7c2c-37a6-4aef-969b-74d60fe7b82c",
   "metadata": {},
   "source": [
    "## Conclusion\n",
    "\n",
    "The logistic regression model provides a baseline for predicting loan defaults using customer features. Further improvements could include:\n",
    "- Trying more complex models (e.g., random forest)\n",
    "- Adding additional features (e.g., credit score, employment history)\n",
    "- Tuning hyperparameters"
   ]
  }
 ],
 "metadata": {
  "kernelspec": {
   "display_name": "Python 3 (ipykernel)",
   "language": "python",
   "name": "python3"
  },
  "language_info": {
   "codemirror_mode": {
    "name": "ipython",
    "version": 3
   },
   "file_extension": ".py",
   "mimetype": "text/x-python",
   "name": "python",
   "nbconvert_exporter": "python",
   "pygments_lexer": "ipython3",
   "version": "3.12.4"
  }
 },
 "nbformat": 4,
 "nbformat_minor": 5
}
